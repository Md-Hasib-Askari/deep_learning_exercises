{
  "nbformat": 4,
  "nbformat_minor": 0,
  "metadata": {
    "colab": {
      "provenance": [],
      "gpuType": "T4",
      "authorship_tag": "ABX9TyN94giEcsfvetwsdH1vMt6p",
      "include_colab_link": true
    },
    "kernelspec": {
      "name": "python3",
      "display_name": "Python 3"
    },
    "language_info": {
      "name": "python"
    },
    "accelerator": "GPU"
  },
  "cells": [
    {
      "cell_type": "markdown",
      "metadata": {
        "id": "view-in-github",
        "colab_type": "text"
      },
      "source": [
        "<a href=\"https://colab.research.google.com/github/Md-Hasib-Askari/deep_learning_exercises/blob/main/Exercise_2.ipynb\" target=\"_parent\"><img src=\"https://colab.research.google.com/assets/colab-badge.svg\" alt=\"Open In Colab\"/></a>"
      ]
    },
    {
      "cell_type": "markdown",
      "source": [
        "# 🧠 Exercise 2: Digit Classification with ANN (MNIST Dataset)\n",
        "\n",
        "**Objective:**  \n",
        "Train a simple Artificial Neural Network (ANN) using TensorFlow/Keras to classify handwritten digits (0–9) from the **MNIST** dataset.\n",
        "\n",
        "**✅ Key Concepts Covered:**\n",
        "* Input flattening\n",
        "* Dense layers and activations\n",
        "* Softmax for multi-class classification\n",
        "* Cross-entropy loss\n",
        "* Model evaluation"
      ],
      "metadata": {
        "id": "eMS_G1Je1KD0"
      }
    },
    {
      "cell_type": "markdown",
      "source": [
        "### **📦 Step 1: Import Libraries**\n"
      ],
      "metadata": {
        "id": "jErT1qfg2qfT"
      }
    },
    {
      "cell_type": "code",
      "execution_count": 1,
      "metadata": {
        "id": "fnkb3klU1FDs"
      },
      "outputs": [],
      "source": [
        "import tensorflow as tf\n",
        "from tensorflow.keras import layers, models\n",
        "import matplotlib.pyplot as plt\n",
        "import numpy as np"
      ]
    },
    {
      "cell_type": "markdown",
      "source": [
        "### **📥 Step 2: Load and Prepare the Dataset**"
      ],
      "metadata": {
        "id": "GhY6PL0j20RU"
      }
    },
    {
      "cell_type": "code",
      "source": [
        "# Load dataset\n",
        "(x_train, y_train), (x_test, y_test) = tf.keras.datasets.mnist.load_data()\n",
        "\n",
        "# Normalize pixel values (0-255) to (0-1)\n",
        "x_train = x_train.astype('float32') / 255.0\n",
        "x_test = x_test.astype('float32') / 255.0\n",
        "\n",
        "# Flatten 28x28 images to 784-element vectors (2D -> 1D)\n",
        "# 28*28 = 784\n",
        "x_train = x_train.reshape(-1, 28 * 28)\n",
        "x_test = x_test.reshape(-1, 28 * 28)"
      ],
      "metadata": {
        "id": "V_aEXPdH2OW7",
        "colab": {
          "base_uri": "https://localhost:8080/"
        },
        "outputId": "a7e94a7e-1faa-4e0a-c460-82241aaeaf69"
      },
      "execution_count": 2,
      "outputs": [
        {
          "output_type": "stream",
          "name": "stdout",
          "text": [
            "Downloading data from https://storage.googleapis.com/tensorflow/tf-keras-datasets/mnist.npz\n",
            "\u001b[1m11490434/11490434\u001b[0m \u001b[32m━━━━━━━━━━━━━━━━━━━━\u001b[0m\u001b[37m\u001b[0m \u001b[1m2s\u001b[0m 0us/step\n"
          ]
        }
      ]
    },
    {
      "cell_type": "markdown",
      "source": [
        "### **🧱 Step 3: Build the ANN Model**\n",
        "\n",
        "### Available Activation Functions\n",
        "---\n",
        "- relu\n",
        "- sigmoid\n",
        "- tanh\n",
        "- leakyrelu\n",
        "- softmax"
      ],
      "metadata": {
        "id": "RHAlOvQc3AYT"
      }
    },
    {
      "cell_type": "code",
      "source": [
        "model = models.Sequential([\n",
        "    layers.Dense(64, activation='relu', input_shape=(784,)),\n",
        "    layers.Dense(64, activation='relu'),\n",
        "    layers.Dense(10, activation='softmax')  # 10 classes (0-9)\n",
        "])"
      ],
      "metadata": {
        "id": "GdU9HUPF2iP8"
      },
      "execution_count": 32,
      "outputs": []
    },
    {
      "cell_type": "markdown",
      "source": [
        "### **⚙️ Step 4: Compile the Model**"
      ],
      "metadata": {
        "id": "EfDfuI_D34Ja"
      }
    },
    {
      "cell_type": "code",
      "source": [
        "\"\"\"\n",
        "Available Optimizers\n",
        "---\n",
        "1. SGD (Stochastic Gradient Descent)\n",
        "2. Adam (Adaptive Moment Estimation)\n",
        "3. RMSprop (Root Mean Square Propagation)\n",
        "4. Adagrad\n",
        "5. Adadelta\n",
        "6. FTRL (Follow The Regularized Leader)\n",
        "7. Nadam (Nesterov-accelerated Adaptive Moment Estimation)\n",
        "\n",
        "Available loss functions\n",
        "---\n",
        "1. Mean Squared Error (MSE)\n",
        "2. Mean Absolute Error (MAE)\n",
        "3. Binary Crossentropy\n",
        "4. Categorical Crossentropy\n",
        "5. Sparse Categorical Crossentropy\n",
        "6. Huber Loss\n",
        "7. Kullback-Leibler Divergence (KL Divergence)\n",
        "\"\"\"\n",
        "\n",
        "model.compile(optimizer='adam',\n",
        "              loss='sparse_categorical_crossentropy',\n",
        "              metrics=['accuracy'])"
      ],
      "metadata": {
        "id": "D3JKnmd432aZ"
      },
      "execution_count": 33,
      "outputs": []
    },
    {
      "cell_type": "markdown",
      "source": [
        "### **📊 Step 5: Train the Model**"
      ],
      "metadata": {
        "id": "G6B2RPuCRElL"
      }
    },
    {
      "cell_type": "code",
      "source": [
        "history = model.fit(x_train, y_train, epochs=5, validation_split=0.1)"
      ],
      "metadata": {
        "colab": {
          "base_uri": "https://localhost:8080/"
        },
        "id": "Tz7cJn2O_Dvk",
        "outputId": "376d31c8-40a5-4116-a0c8-f50ebba9488f"
      },
      "execution_count": 34,
      "outputs": [
        {
          "output_type": "stream",
          "name": "stdout",
          "text": [
            "Epoch 1/5\n",
            "\u001b[1m1688/1688\u001b[0m \u001b[32m━━━━━━━━━━━━━━━━━━━━\u001b[0m\u001b[37m\u001b[0m \u001b[1m8s\u001b[0m 4ms/step - accuracy: 0.8419 - loss: 0.5217 - val_accuracy: 0.9582 - val_loss: 0.1364\n",
            "Epoch 2/5\n",
            "\u001b[1m1688/1688\u001b[0m \u001b[32m━━━━━━━━━━━━━━━━━━━━\u001b[0m\u001b[37m\u001b[0m \u001b[1m4s\u001b[0m 3ms/step - accuracy: 0.9574 - loss: 0.1425 - val_accuracy: 0.9695 - val_loss: 0.1028\n",
            "Epoch 3/5\n",
            "\u001b[1m1688/1688\u001b[0m \u001b[32m━━━━━━━━━━━━━━━━━━━━\u001b[0m\u001b[37m\u001b[0m \u001b[1m4s\u001b[0m 3ms/step - accuracy: 0.9687 - loss: 0.1021 - val_accuracy: 0.9743 - val_loss: 0.0871\n",
            "Epoch 4/5\n",
            "\u001b[1m1688/1688\u001b[0m \u001b[32m━━━━━━━━━━━━━━━━━━━━\u001b[0m\u001b[37m\u001b[0m \u001b[1m5s\u001b[0m 3ms/step - accuracy: 0.9757 - loss: 0.0772 - val_accuracy: 0.9747 - val_loss: 0.0867\n",
            "Epoch 5/5\n",
            "\u001b[1m1688/1688\u001b[0m \u001b[32m━━━━━━━━━━━━━━━━━━━━\u001b[0m\u001b[37m\u001b[0m \u001b[1m5s\u001b[0m 3ms/step - accuracy: 0.9806 - loss: 0.0613 - val_accuracy: 0.9735 - val_loss: 0.0901\n"
          ]
        }
      ]
    },
    {
      "cell_type": "markdown",
      "source": [
        "### **📈 Step 6: Evaluate the Model**"
      ],
      "metadata": {
        "id": "Hnq8-FWt9LG_"
      }
    },
    {
      "cell_type": "code",
      "source": [
        "test_loss, test_acc = model.evaluate(x_test, y_test)\n",
        "print(f\"Test accuracy: {test_acc:.4f}\")"
      ],
      "metadata": {
        "colab": {
          "base_uri": "https://localhost:8080/"
        },
        "id": "mmQZne7y9MNE",
        "outputId": "ed32032c-17d2-4aa6-dbc2-8565365c68db"
      },
      "execution_count": 35,
      "outputs": [
        {
          "output_type": "stream",
          "name": "stdout",
          "text": [
            "\u001b[1m313/313\u001b[0m \u001b[32m━━━━━━━━━━━━━━━━━━━━\u001b[0m\u001b[37m\u001b[0m \u001b[1m1s\u001b[0m 2ms/step - accuracy: 0.9648 - loss: 0.1121\n",
            "Test accuracy: 0.9704\n"
          ]
        }
      ]
    },
    {
      "cell_type": "markdown",
      "source": [
        "### **🧪 Step 7: Predict and Visualize**"
      ],
      "metadata": {
        "id": "W-k5fbFDSUvi"
      }
    },
    {
      "cell_type": "code",
      "source": [
        "predictions = model.predict(x_test)\n",
        "\n",
        "# Show some predictions\n",
        "input_idx = 8\n",
        "test1 = x_test[input_idx].reshape(28, 28)\n",
        "\n",
        "plt.imshow(test1, cmap='gray')\n",
        "plt.title(f\"Predicted: {tf.argmax(predictions[input_idx])}\")\n",
        "plt.show()\n"
      ],
      "metadata": {
        "colab": {
          "base_uri": "https://localhost:8080/",
          "height": 469
        },
        "id": "uVMsyTG9_kFr",
        "outputId": "db938dd2-2c60-4ebb-d29e-0149bc3323f1"
      },
      "execution_count": 36,
      "outputs": [
        {
          "output_type": "stream",
          "name": "stdout",
          "text": [
            "\u001b[1m313/313\u001b[0m \u001b[32m━━━━━━━━━━━━━━━━━━━━\u001b[0m\u001b[37m\u001b[0m \u001b[1m1s\u001b[0m 2ms/step\n"
          ]
        },
        {
          "output_type": "display_data",
          "data": {
            "text/plain": [
              "<Figure size 640x480 with 1 Axes>"
            ],
            "image/png": "[encoded data removed]"
          },
          "metadata": {}
        }
      ]
    }
  ]
}