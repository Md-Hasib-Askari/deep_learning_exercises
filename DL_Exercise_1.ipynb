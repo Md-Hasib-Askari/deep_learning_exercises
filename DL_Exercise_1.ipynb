{
  "nbformat": 4,
  "nbformat_minor": 0,
  "metadata": {
    "colab": {
      "provenance": [],
      "authorship_tag": "ABX9TyNCw6fceiR02ujCEUY61Kwp",
      "include_colab_link": true
    },
    "kernelspec": {
      "name": "python3",
      "display_name": "Python 3"
    },
    "language_info": {
      "name": "python"
    }
  },
  "cells": [
    {
      "cell_type": "markdown",
      "metadata": {
        "id": "view-in-github",
        "colab_type": "text"
      },
      "source": [
        "<a href=\"https://colab.research.google.com/github/Md-Hasib-Askari/deep_learning_exercises/blob/main/Exercise_1.ipynb\" target=\"_parent\"><img src=\"https://colab.research.google.com/assets/colab-badge.svg\" alt=\"Open In Colab\"/></a>"
      ]
    },
    {
      "cell_type": "markdown",
      "source": [
        "# Exercise 1: Perceptron for AND/OR Gates\n",
        "\n",
        "**Objective:**  \n",
        "Understand how a single-layer perceptron can model simple logic gates like AND and OR.\n",
        "\n",
        "**What you'll learn:**  \n",
        "*   Basics of neurons (weights, bias, activation)\n",
        "*   Manual forward pass\n",
        "*   Binary classification"
      ],
      "metadata": {
        "id": "eMS_G1Je1KD0"
      }
    },
    {
      "cell_type": "markdown",
      "source": [
        "### **1. Import Libraries**\n"
      ],
      "metadata": {
        "id": "jErT1qfg2qfT"
      }
    },
    {
      "cell_type": "code",
      "execution_count": null,
      "metadata": {
        "id": "fnkb3klU1FDs"
      },
      "outputs": [],
      "source": [
        "import numpy as np"
      ]
    },
    {
      "cell_type": "markdown",
      "source": [
        "### **2. Define Dataset**"
      ],
      "metadata": {
        "id": "GhY6PL0j20RU"
      }
    },
    {
      "cell_type": "code",
      "source": [
        "# Input: [x1, x2], Output: x1 AND x2 | x1 OR x2\n",
        "X = np.array([\n",
        "    [0,0],\n",
        "    [0,1],\n",
        "    [1,0],\n",
        "    [1,1],\n",
        "])\n",
        "\n",
        "y_and = np.array([0,0,0,1]) # AND output\n",
        "y_or = np.array([0,1,1,1]) # OR output"
      ],
      "metadata": {
        "id": "V_aEXPdH2OW7"
      },
      "execution_count": null,
      "outputs": []
    },
    {
      "cell_type": "markdown",
      "source": [
        "### **3. Define Perceptron Function**"
      ],
      "metadata": {
        "id": "RHAlOvQc3AYT"
      }
    },
    {
      "cell_type": "code",
      "source": [
        "def step_func(x) -> int:\n",
        "  \"\"\"\n",
        "    Args:\n",
        "        x (np.float64): Input value.\n",
        "\n",
        "    Returns:\n",
        "        int: 1 if x >= 0, else 0.\n",
        "  \"\"\"\n",
        "  return 1 if x >= 0 else 0\n",
        "\n",
        "def perceptron(x, weights, bias) -> int:\n",
        "  \"\"\"\n",
        "    Args:\n",
        "        x (np.ndarray[np.float64]): Input vector.\n",
        "        weights (np.ndarray[np.float64]): weight vector.\n",
        "        bias (np.float64): scalar value.\n",
        "\n",
        "    Returns:\n",
        "        int: 1 if x >= 0, else 0.\n",
        "  \"\"\"\n",
        "  return step_func(np.dot(x, weights) + bias) # w1*x1 + w2*x2 + ... + b"
      ],
      "metadata": {
        "id": "GdU9HUPF2iP8"
      },
      "execution_count": null,
      "outputs": []
    },
    {
      "cell_type": "markdown",
      "source": [
        "### **4. Train the Perceptron**"
      ],
      "metadata": {
        "id": "EfDfuI_D34Ja"
      }
    },
    {
      "cell_type": "code",
      "source": [
        "# Initialize weights and bias (AND)\n",
        "weights_and = np.zeros(2) # [0. 0.]\n",
        "bias_and = 0\n",
        "learning_rate = 0.1 # arbitrary smaller value for small change\n",
        "epochs = 10 # number of iteration\n",
        "\n",
        "# Training Loop\n",
        "for epoch in range(epochs):\n",
        "  for i in range(len(X)):\n",
        "    x_i = X[i]\n",
        "    y_true_and = y_and[i]\n",
        "    y_pred_and = perceptron(x_i, weights_and, bias_and)\n",
        "    error_and = y_true_and - y_pred_and\n",
        "\n",
        "    # Update weights and bias\n",
        "    weights_and += learning_rate * error_and * x_i\n",
        "    bias_and += learning_rate * error_and\n",
        "\n",
        "print(f\"Trained weights: {weights_and}, bias: {bias_and}\")"
      ],
      "metadata": {
        "colab": {
          "base_uri": "https://localhost:8080/"
        },
        "id": "D3JKnmd432aZ",
        "outputId": "d42062aa-90d1-4c6a-eb98-832c5342f69b"
      },
      "execution_count": null,
      "outputs": [
        {
          "output_type": "stream",
          "name": "stdout",
          "text": [
            "Trained weights: [0.2 0.1], bias: -0.20000000000000004\n"
          ]
        }
      ]
    },
    {
      "cell_type": "code",
      "source": [
        "# Initialize weights and bias (OR)\n",
        "weights_or = np.zeros(2) # [0. 0.]\n",
        "bias_or = 0\n",
        "learning_rate = 0.1\n",
        "epochs = 10\n",
        "\n",
        "# Training Loop\n",
        "for epoch in range(epochs):\n",
        "  for i in range(len(X)):\n",
        "    x_i = X[i]\n",
        "    y_true_or = y_or[i]\n",
        "    y_pred_or = perceptron(x_i, weights_or, bias_or)\n",
        "    error_or = y_true_or - y_pred_or\n",
        "\n",
        "    # Update weights and bias\n",
        "    weights_or += learning_rate * error_or * x_i\n",
        "    bias_or += learning_rate * error_or\n",
        "\n",
        "print(f\"Trained weights: {weights_or}, bias: {bias_or}\")"
      ],
      "metadata": {
        "colab": {
          "base_uri": "https://localhost:8080/"
        },
        "id": "Tz7cJn2O_Dvk",
        "outputId": "1f4336e1-a496-47d6-d6cb-a6d145a5ea81"
      },
      "execution_count": null,
      "outputs": [
        {
          "output_type": "stream",
          "name": "stdout",
          "text": [
            "Trained weights: [0.1 0.1], bias: -0.1\n"
          ]
        }
      ]
    },
    {
      "cell_type": "markdown",
      "source": [
        "### **5. Test the Perceptron**"
      ],
      "metadata": {
        "id": "Hnq8-FWt9LG_"
      }
    },
    {
      "cell_type": "code",
      "source": [
        "print(\"Testing perceptron on AND gate:\")\n",
        "for x_i in X:\n",
        "    result = perceptron(x_i, weights_and, bias_and)\n",
        "    print(f\"{x_i} -> {result}\")"
      ],
      "metadata": {
        "colab": {
          "base_uri": "https://localhost:8080/"
        },
        "id": "mmQZne7y9MNE",
        "outputId": "5f2d0eb3-3b0b-4a50-e71d-b9eee7b14d45"
      },
      "execution_count": null,
      "outputs": [
        {
          "output_type": "stream",
          "name": "stdout",
          "text": [
            "Testing perceptron on AND gate:\n",
            "[0 0] -> 0\n",
            "[0 1] -> 0\n",
            "[1 0] -> 0\n",
            "[1 1] -> 1\n"
          ]
        }
      ]
    },
    {
      "cell_type": "code",
      "source": [
        "print(\"Testing perceptron on OR gate:\")\n",
        "for x_i in X:\n",
        "    result = perceptron(x_i, weights_or, bias_or)\n",
        "    print(f\"{x_i} -> {result}\")"
      ],
      "metadata": {
        "colab": {
          "base_uri": "https://localhost:8080/"
        },
        "id": "uVMsyTG9_kFr",
        "outputId": "3a0956ed-edec-4ce0-acda-f2c7793240e6"
      },
      "execution_count": null,
      "outputs": [
        {
          "output_type": "stream",
          "name": "stdout",
          "text": [
            "Testing perceptron on OR gate:\n",
            "[0 0] -> 0\n",
            "[0 1] -> 1\n",
            "[1 0] -> 1\n",
            "[1 1] -> 1\n"
          ]
        }
      ]
    }
  ]
}
